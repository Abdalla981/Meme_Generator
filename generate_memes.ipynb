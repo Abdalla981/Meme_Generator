{
 "cells": [
  {
   "cell_type": "markdown",
   "metadata": {},
   "source": [
    "# Generate Memes"
   ]
  },
  {
   "cell_type": "markdown",
   "metadata": {},
   "source": [
    "## Instructions\n",
    "\n",
    "In this project, we developed a deep learning architecture to generate new and creative memes. This notebook allows you to load an image and get a meme text written on it. The notebook is split into different sections for loading the model, processing the image and generating the meme. Please do not change the code unless you know what you are doing.\n",
    "\n",
    "Have fun :)"
   ]
  },
  {
   "cell_type": "markdown",
   "metadata": {},
   "source": [
    "## Load Model (Run once)"
   ]
  },
  {
   "cell_type": "code",
   "execution_count": 1,
   "metadata": {},
   "outputs": [],
   "source": [
    "import numpy as np\n",
    "from training.MergeModel import MergeModel\n",
    "from training.Dataset import Dataset\n",
    "from training.DatasetProcessor import DatasetProcessor\n",
    "from testing.EvaluateModel import EvaluateModel\n",
    "from preprocessing.EfficientNet import EfficientNet\n",
    "from keras.preprocessing.image import load_img, img_to_array\n",
    "from keras.applications.efficientnet import preprocess_input"
   ]
  },
  {
   "cell_type": "code",
   "execution_count": 2,
   "metadata": {},
   "outputs": [],
   "source": [
    "model_path = 'models/BestModel/B0'\n",
    "model_name = 'Merge-model-B0-n256-ln256-tanhpTrue-ep004-loss4.717-val_loss5.467'\n",
    "train_captions_path = 'dataset/CaptionsClean3_train.txt'\n",
    "glove_path = 'embedding/glove/captionsGlove.pkl'\n",
    "ip_core = 'B0'"
   ]
  },
  {
   "cell_type": "code",
   "execution_count": 3,
   "metadata": {},
   "outputs": [],
   "source": [
    "model_obj = MergeModel(model_path, init=False, model_name=model_name + '.h5')\n",
    "ip_obj = EfficientNet(None, models_list=(ip_core,))\n",
    "ip_layer = ip_obj.init_models((ip_core,))"
   ]
  },
  {
   "cell_type": "code",
   "execution_count": 4,
   "metadata": {},
   "outputs": [],
   "source": [
    "t_captions = DatasetProcessor(train_captions_path, None, None, glove_path)\n",
    "t_captions.process_dataset(t_captions.captions_to_list())"
   ]
  },
  {
   "cell_type": "markdown",
   "metadata": {},
   "source": [
    "## Process Image (Run for every image)"
   ]
  },
  {
   "cell_type": "code",
   "execution_count": 7,
   "metadata": {},
   "outputs": [],
   "source": [
    "image_path = input('Enter the image path: ')\n",
    "image_name = image_path.split('/')[-1].split('.')[0] + '-gen'\n",
    "generated_memes_path = '/'.join(image_path.split('/')[:-1])\n",
    "size = ip_layer[ip_core][1]\n",
    "image = {image_name: load_img(image_path, target_size=(size, size))}\n",
    "p_image = img_to_array(image[image_name])\n",
    "p_image = np.expand_dims(p_image, axis=0)\n",
    "p_image = preprocess_input(p_image)\n",
    "image_feature = ip_layer[ip_core][0].predict(p_image, verbose=0)\n",
    "caption = {image_name: EvaluateModel(model_obj, t_captions).beam_search(image_feature).split()}\n",
    "Dataset().show_samples(images_dict=image, captions_dict=caption, num=1, randomise=False, \n",
    "                       splitted=True, output_file_path=generated_memes_path)"
   ]
  },
  {
   "cell_type": "code",
   "execution_count": null,
   "metadata": {},
   "outputs": [],
   "source": []
  }
 ],
 "metadata": {
  "interpreter": {
   "hash": "b529380be8df8128792232d92bef498d4433f8d30fe29959b4c36b614f8ba69d"
  },
  "kernelspec": {
   "display_name": "Python 3.6.9 ('PR2')",
   "language": "python",
   "name": "python3"
  },
  "language_info": {
   "codemirror_mode": {
    "name": "ipython",
    "version": 3
   },
   "file_extension": ".py",
   "mimetype": "text/x-python",
   "name": "python",
   "nbconvert_exporter": "python",
   "pygments_lexer": "ipython3",
   "version": "3.6.9"
  },
  "orig_nbformat": 4
 },
 "nbformat": 4,
 "nbformat_minor": 2
}
